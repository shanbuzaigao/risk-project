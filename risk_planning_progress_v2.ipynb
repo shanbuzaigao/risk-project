{
 "cells": [
  {
   "cell_type": "markdown",
   "metadata": {},
   "source": [
    "# Project 1:  Risk Preferences and Elicitation\n",
    "\n",
    "In this project we will build a module to model and elicit risk preferences.  This project is broken down into a number of steps described below:\n",
    "\n",
    "* Step 1:  Code `utility functions` defined on lottery outcomes.  \n",
    "* Step 2:  Decide on, and code, a general `lottery data structure`.\n",
    "* Step 3:  Code an `expected value function` and `expected utility function`.\n",
    "* Step 4:  Code `complementary functions` for risk preferences. \n",
    "* Step 5:  Code a `lottery choice function`.\n",
    "* Step 6:  Code the `Holt-Laury procedure` for risk preference elicitation.\n",
    "* Step 7:  Code the `stepwise elicitation algorithm`.\n",
    "* Step 8:  Build a `risk preference module` called `risk`."
   ]
  },
  {
   "cell_type": "markdown",
   "metadata": {},
   "source": [
    "# Step One:  Code utility functions\n",
    "\n",
    "Research the literature starting [here](https://en.wikipedia.org/wiki/Risk_aversion) and find three additional utility functions that you can use to model risk preferences.  Build these utility functions as python functions in the cells below.  I will start you out with a simple one. "
   ]
  },
  {
   "cell_type": "markdown",
   "metadata": {},
   "source": [
    "## Functional Forms\n",
    "These functional forms model the utility of money or wealth.\n",
    "> Wikipedia offers a pretty good introduction to these functions"
   ]
  },
  {
   "cell_type": "code",
   "execution_count": 4,
   "metadata": {},
   "outputs": [],
   "source": [
    "import math\n",
    "def linear_utility(m, intercept=0, slope=1.0):\n",
    "    \"\"\"linear utility of money\n",
    "    \n",
    "        args: m, float, amount of money.\n",
    "              a, float, intercept of line.\n",
    "              b, float, slope of line.\n",
    "              \n",
    "        returns: util, float, utility of money m.    \n",
    "    \"\"\"\n",
    "    util = intercept + slope*m\n",
    "    return float(util)\n",
    "\n",
    "def cara_utility(m,r=0.005):\n",
    "    \"\"\"Constant Absolute Risk Aversion\"\"\"\n",
    "    import math\n",
    "    util = 1 - (math.e)**(-r*m)\n",
    "    return float(util)\n",
    "\n",
    "def crra_utility(m,r=0.5):\n",
    "    \"\"\"Constant Relative Risk Aversion\"\"\"\n",
    "    if r == 1:\n",
    "        util=math.log(m)\n",
    "    if r != 1:\n",
    "        util=(m**(1-r)-1)/(1-r)\n",
    "    return float(util)\n",
    "\n",
    "def exponential_utility(m, a=.005):\n",
    "    util = 1.0-math.e**(-a*m)\n",
    "    return float(util)\n",
    "\n",
    "def hara_utility(m, a=2, b=50):\n",
    "    \"\"\"Hyperbolic Absolute Risk Aversion\"\"\"\n",
    "    if a == 0:\n",
    "        util = exponential_utility(m, 1/b)\n",
    "    elif b == 0:\n",
    "        util = cara_utility(m, 1/a)\n",
    "    else:\n",
    "        r=1/a\n",
    "        c= -b/a\n",
    "        util = ((m - c)**(1-r))/(1-r)\n",
    "    return float(util)"
   ]
  },
  {
   "cell_type": "markdown",
   "metadata": {},
   "source": [
    "## Functions are first class citizens\n",
    "In Python functions are first class citizens.  This means they can be treated the same way you treat any of the usual types of data in Python.  In particular, you can assign a function to a variable, you can pass a function to another function, and you can return a function from a function.  Here are some brief examples below."
   ]
  },
  {
   "cell_type": "code",
   "execution_count": 6,
   "metadata": {},
   "outputs": [
    {
     "name": "stdout",
     "output_type": "stream",
     "text": [
      "<class 'function'> <function linear_utility at 0x000001D435DE2160>\n",
      "20.0\n",
      "20.0\n"
     ]
    }
   ],
   "source": [
    "m = 20\n",
    "# We can assign the linear utility function to the variable utility\n",
    "utility = linear_utility\n",
    "print(type(utility), utility)\n",
    "# we can use the linear utility function normally\n",
    "print(linear_utility(m))\n",
    "# or we can use the variable name instead\n",
    "print(utility(m))"
   ]
  },
  {
   "cell_type": "code",
   "execution_count": 7,
   "metadata": {},
   "outputs": [
    {
     "name": "stdout",
     "output_type": "stream",
     "text": [
      "utility of 10 = 10.0\n",
      "utility of 10 = 10.0\n"
     ]
    }
   ],
   "source": [
    "# You can also send a function to a function.\n",
    "def u(m, f):\n",
    "    return f(m)\n",
    "m = 10\n",
    "print(f\"utility of {m} = {u(m, linear_utility)}\")\n",
    "print(f\"utility of {m} = {u(m, utility)}\")\n"
   ]
  },
  {
   "cell_type": "markdown",
   "metadata": {},
   "source": [
    "Furthermore, we can put functions into data structures and use them simply by indexing them.  Here are some more examples."
   ]
  },
  {
   "cell_type": "code",
   "execution_count": 9,
   "metadata": {},
   "outputs": [
    {
     "name": "stdout",
     "output_type": "stream",
     "text": [
      "utility linear, expected value = 5.0,     expected utility = 5.0\n",
      "utility cara, expected value = 5.0,     expected utility = 0.024385287749642992\n",
      "utility crra, expected value = 5.0,     expected utility = 1.1622776601683795\n",
      "utility exponential, expected value = 5.0,     expected utility = 0.024385287749642992\n",
      "utility hara, expected value = 5.0,     expected utility = 10.916079783099615\n"
     ]
    }
   ],
   "source": [
    "utility_functions_list =[linear_utility, cara_utility, crra_utility, exponential_utility, hara_utility]\n",
    "utility_names =[\"linear\", \"cara\", \"crra\", \"exponential\", \"hara\"]\n",
    "money_1 = 0\n",
    "money_2 = 10\n",
    "prob_1 = .5\n",
    "prob_2 = .5\n",
    "for k, u in enumerate(utility_functions_list):  \n",
    "    # notice use of line break \\ to split up the print statement\n",
    "    print(f\"utility {utility_names[k]}, expected value = {prob_1*money_1 + prob_2*money_2}, \\\n",
    "    expected utility = {prob_1*u(money_1) + prob_2 * u(money_2)}\")"
   ]
  },
  {
   "cell_type": "markdown",
   "metadata": {},
   "source": [
    "Let's try this with a dictionary"
   ]
  },
  {
   "cell_type": "code",
   "execution_count": 11,
   "metadata": {},
   "outputs": [
    {
     "name": "stdout",
     "output_type": "stream",
     "text": [
      "utility linear, expected value = 5.0, expected utility = 5.0\n",
      "utility cara, expected value = 5.0, expected utility = 0.024385287749642992\n",
      "utility crra, expected value = 5.0, expected utility = 1.1622776601683795\n",
      "utility hara, expected value = 5.0, expected utility = 10.916079783099615\n"
     ]
    }
   ],
   "source": [
    "# Notice I don't need a line break here\n",
    "utility_functions = {\"linear\": linear_utility, \n",
    "                     \"cara\": cara_utility,\n",
    "                     \"crra\": crra_utility,\n",
    "                     \"hara\": hara_utility}\n",
    "\n",
    "for key, util in utility_functions.items():\n",
    "    expected_value = prob_1 * money_1 + prob_2 * money_2\n",
    "    expected_utility = prob_1 * util(money_1) + prob_2 * util(money_2)\n",
    "    output = f\"utility {key}, expected value = {expected_value}, expected utility = {expected_utility}\"\n",
    "    print(output)"
   ]
  },
  {
   "cell_type": "markdown",
   "metadata": {},
   "source": [
    "## Plotting Functions\n",
    "This example uses matplotlib.  There is a notebook on this library that you can look at."
   ]
  },
  {
   "cell_type": "code",
   "execution_count": 13,
   "metadata": {
    "scrolled": true
   },
   "outputs": [
    {
     "data": {
      "image/png": "[encoded data removed]",
      "text/plain": [
       "<Figure size 640x480 with 1 Axes>"
      ]
     },
     "metadata": {},
     "output_type": "display_data"
    },
    {
     "data": {
      "image/png": "[encoded data removed]",
      "text/plain": [
       "<Figure size 640x480 with 1 Axes>"
      ]
     },
     "metadata": {},
     "output_type": "display_data"
    },
    {
     "data": {
      "image/png": "[encoded data removed]",
      "text/plain": [
       "<Figure size 640x480 with 1 Axes>"
      ]
     },
     "metadata": {},
     "output_type": "display_data"
    },
    {
     "data": {
      "image/png": "[encoded data removed]",
      "text/plain": [
       "<Figure size 640x480 with 1 Axes>"
      ]
     },
     "metadata": {},
     "output_type": "display_data"
    },
    {
     "data": {
      "image/png": "[encoded data removed]",
      "text/plain": [
       "<Figure size 640x480 with 1 Axes>"
      ]
     },
     "metadata": {},
     "output_type": "display_data"
    }
   ],
   "source": [
    "# Producing some standard plots\n",
    "import matplotlib.pyplot as plt\n",
    "\n",
    "def plot_utility(utility, utility_name):\n",
    "    x = []\n",
    "    y = []\n",
    "    for i in range(1, 1001):\n",
    "        x.append(i)\n",
    "        y.append(utility(i))\n",
    "    plt.plot(x,y)\n",
    "    plt.legend([utility_name])\n",
    "    plt.show(block=False)\n",
    "\n",
    "utils =[linear_utility, cara_utility, crra_utility, exponential_utility, hara_utility]\n",
    "u_names =[\"linear\", \"cara\", \"crra\", \"exponential\", \"hara\"]\n",
    "for utility, utility_name in zip(utils, u_names):\n",
    "    plot_utility(utility, utility_name)"
   ]
  },
  {
   "cell_type": "markdown",
   "metadata": {},
   "source": [
    "# Step Two: Design and code lottery data structure  \n",
    "\n",
    "The simplest version of a lottery is a list of dictionaries, where each dictionary indicates an outcome and the probability, greater than or equal to 0, of that outcome happening.  Here is an example:\n",
    "\n",
    "```python\n",
    "lottery = [event_1, event_2]\n",
    "lottery = [{'out':0, 'prob':0.5}, {'out':10, 'prob':0.5}]\n",
    "```\n",
    "Obviously the list can have as many dictionaries as we would like.  Lotteries must have the following additional property.  The sum of the probabilities across the elements (or dictionaries) of the lottery must equal 1.0.  In addition the value associate with 'out' can be either a payoff as in the example or another lottery.  When this happens we call this a compound lottery.  Here is an example.\n",
    "\n",
    "```python\n",
    "compound_lottery = [event_1, event_2]\n",
    "compound_lottery = [{'out':lottery, 'prob':0.5}, {'out':10, 'prob':0.5}]\n",
    "```\n",
    "We will build some functions to input and build lotteries, but before we start we will build some useful helper functions."
   ]
  },
  {
   "cell_type": "markdown",
   "metadata": {},
   "source": [
    "## Helper Functions"
   ]
  },
  {
   "cell_type": "code",
   "execution_count": 16,
   "metadata": {},
   "outputs": [],
   "source": [
    "import sys\n",
    "\n",
    "def is_near_target(x, target = 0.0, precision = .001):\n",
    "    \"\"\"checks to see if x > target-precision and x < target+precision\n",
    "    \"\"\"\n",
    "    if (x > target-precision and x < target+precision):\n",
    "        return True\n",
    "    else:\n",
    "        return False\n",
    "\n",
    "def is_lottery(lottery):\n",
    "    \"\"\" returns true if lottery probabilities sum to near 1 and are all non-negative,\n",
    "        lottery = [event-1, ..., event-n]\n",
    "                   event-k = {\"out\": float_value, \"prob\": float_value}\n",
    "    \"\"\"\n",
    "    total_prob = 0.0\n",
    "    for event in lottery:\n",
    "        if event['prob'] < 0.0: return False  #TODO fix for precision error\n",
    "        total_prob += event['prob']\n",
    "    if is_near_target(total_prob, target = 1, precision = .000001):\n",
    "        return True\n",
    "    else:\n",
    "        return False\n",
    "\n",
    "def input_number(prompt):\n",
    "    \"\"\" gives user f\"{prompt} or q quits:\" and waits for input,\n",
    "        if input is an integer then returns integer,\n",
    "        if input is a float then returns float,\n",
    "        if input == \"q\" or \"Q\" then exit code\n",
    "    \"\"\"\n",
    "    need_input = True\n",
    "    while (need_input):\n",
    "        x = input(f\"{prompt} (or q quits):\")\n",
    "        if x == \"q\" or x == \"Q\":\n",
    "            print(\"User terminated session\")\n",
    "            sys.exit()          \n",
    "        try:\n",
    "            y = int(x)\n",
    "            return y\n",
    "        except ValueError:\n",
    "            pass\n",
    "        try:\n",
    "            z = float(x)\n",
    "            return z\n",
    "        except ValueError:\n",
    "            print(f\"{x} is not a number\")\n",
    "    "
   ]
  },
  {
   "cell_type": "markdown",
   "metadata": {},
   "source": [
    "## Helper Function Tests"
   ]
  },
  {
   "cell_type": "code",
   "execution_count": 18,
   "metadata": {},
   "outputs": [],
   "source": [
    "#rint(input_number(\"enter a number\"))"
   ]
  },
  {
   "cell_type": "code",
   "execution_count": 19,
   "metadata": {},
   "outputs": [
    {
     "data": {
      "text/plain": [
       "True"
      ]
     },
     "execution_count": 19,
     "metadata": {},
     "output_type": "execute_result"
    }
   ],
   "source": [
    "lottery = [{'out': 25.0, 'prob': 0.9553673849996607},\n",
    "           {'out': 59.0, 'prob': 0.044632615000339326}]\n",
    "is_lottery(lottery)"
   ]
  },
  {
   "cell_type": "code",
   "execution_count": 20,
   "metadata": {},
   "outputs": [
    {
     "name": "stdout",
     "output_type": "stream",
     "text": [
      "True\n",
      "False\n"
     ]
    }
   ],
   "source": [
    "x = 1.0001\n",
    "target = 1.0\n",
    "print(is_near_target(x, target = target, precision = .001))\n",
    "target = 1.1\n",
    "print(is_near_target(x, target = target, precision = .001))\n"
   ]
  },
  {
   "cell_type": "markdown",
   "metadata": {},
   "source": [
    "## Input a Lottery"
   ]
  },
  {
   "cell_type": "code",
   "execution_count": 22,
   "metadata": {},
   "outputs": [],
   "source": [
    "def input_lottery():\n",
    "    \"\"\"Builds a lottery from user input\n",
    "       TODO:  loop until valid lottery entered\n",
    "    \"\"\"\n",
    "    lottery = []\n",
    "    num_events= input_number(\"Enter number of events\")\n",
    "    for k in range(num_events):\n",
    "        event = {}\n",
    "        print(f\"   Event {k+1}\")\n",
    "        outcome = input_number(\"Enter outcome\")\n",
    "        prob = input_number(\"Enter probability\")\n",
    "        event['out'] = outcome\n",
    "        event['prob'] = prob\n",
    "        lottery.append(event)\n",
    "    if is_lottery(lottery):\n",
    "        return lottery\n",
    "\n",
    "#lottery = input_lottery()\n",
    "#print(lottery)"
   ]
  },
  {
   "cell_type": "markdown",
   "metadata": {},
   "source": [
    "## Now we can build some lottery making functions"
   ]
  },
  {
   "cell_type": "code",
   "execution_count": 24,
   "metadata": {},
   "outputs": [],
   "source": [
    "import random\n",
    "#help(random)"
   ]
  },
  {
   "cell_type": "markdown",
   "metadata": {},
   "source": [
    "### We will start with building a single lottery"
   ]
  },
  {
   "cell_type": "code",
   "execution_count": 26,
   "metadata": {},
   "outputs": [],
   "source": [
    "def print_lottery(lottery):\n",
    "    \"\"\"prints out a lottery in more readable form\n",
    "       TODO:  only goes 2 deep\n",
    "    \"\"\"\n",
    "    TAB = \"    \"\n",
    "    print(\"Lottery\")\n",
    "    for k, event in enumerate(lottery):\n",
    "        if type(event['out']) == list:\n",
    "            print(f\"event {k} prob = {event[\"prob\"]:.3f} outcome = lottery\")\n",
    "            for j, subevent in enumerate(event['out']):\n",
    "                print(f\"{TAB}event {j} prob = {subevent[\"prob\"]:.3f} outcome = {subevent[\"out\"]}\")\n",
    "        else:\n",
    "            print(f\"event {k} prob = {event[\"prob\"]:.3f} outcome = {event[\"out\"]}\")"
   ]
  },
  {
   "cell_type": "code",
   "execution_count": 27,
   "metadata": {},
   "outputs": [],
   "source": [
    "def print_lottery_with_utility(lottery, u):\n",
    "    \"\"\"prints out a lottery in more readable form\n",
    "       TODO:  only goes 2 deep\n",
    "    \"\"\"\n",
    "    TAB = \"    \"\n",
    "    print(\"Lottery\")\n",
    "    for k, event in enumerate(lottery):\n",
    "        outcome = event['out']\n",
    "        if type(outcome) == list:\n",
    "            print(f\"event {k} prob = {event[\"prob\"]:.3f} outcome = lottery\")\n",
    "            for j, subevent in enumerate(outcome):\n",
    "                subout = subevent[\"out\"]\n",
    "                print(f\"{TAB}event {j} prob = {subevent[\"prob\"]:.3f} outcome = {subout},utility = {u(subout):.4f}\")\n",
    "        else:\n",
    "            print(f\"event {k} prob = {event[\"prob\"]:.3f} outcome = {event[\"out\"]}, utility = {u(outcome):.4f}\")"
   ]
  },
  {
   "cell_type": "code",
   "execution_count": 28,
   "metadata": {},
   "outputs": [
    {
     "name": "stdout",
     "output_type": "stream",
     "text": [
      "True\n",
      "Lottery\n",
      "event 0 prob = 0.955 outcome = 25.0\n",
      "event 1 prob = 0.045 outcome = 59.0\n",
      "Lottery\n",
      "event 0 prob = 0.955 outcome = 25.0, utility = 8.0000\n",
      "event 1 prob = 0.045 outcome = 59.0, utility = 13.3623\n"
     ]
    }
   ],
   "source": [
    "lottery = [{'out': 25.0, 'prob': 0.9553673849996607},\n",
    "           {'out': 59.0, 'prob': 0.044632615000339326}]\n",
    "print(is_lottery(lottery))\n",
    "print_lottery(lottery)\n",
    "print_lottery_with_utility(lottery, crra_utility)"
   ]
  },
  {
   "cell_type": "code",
   "execution_count": 29,
   "metadata": {},
   "outputs": [],
   "source": [
    "import random\n",
    "\n",
    "def make_simple_lottery(min_pay = 0, max_pay = 100, num_events = 2):\n",
    "    \"\"\"Builds a random simple lottery.\n",
    "    Parms:\n",
    "    min_pay, integer, lower bound on outcome,\n",
    "    max_pay, integer, upper bound on outcome,\n",
    "    num_events, integer, number of events in lottery\n",
    "\n",
    "    Returns:\n",
    "    lottery = [event_1, ..., event_num_events]\n",
    "    event_k = {'out': pay, 'prob': probability\n",
    "    \"\"\"     \n",
    "    lottery = []\n",
    "    total_prob = 0\n",
    "    upper_prob = 1.0\n",
    "    for k in range(num_events-1):\n",
    "        event = {}\n",
    "        event['out'] = float(random.randint(min_pay, max_pay))\n",
    "        prob = random.uniform(0.0, upper_prob)\n",
    "        event['prob'] = prob\n",
    "        upper_prob -= prob\n",
    "        lottery.append(event)\n",
    "    event = {}\n",
    "    event['out'] = float(random.randint(min_pay, max_pay))\n",
    "    event['prob'] = upper_prob\n",
    "    lottery.append(event)\n",
    "    if is_lottery(lottery):\n",
    "        return lottery\n",
    "    else:\n",
    "        print(\"function make_simple_lottery failed to make lottery\")\n",
    "        make_simple_lottery()"
   ]
  },
  {
   "cell_type": "code",
   "execution_count": 30,
   "metadata": {},
   "outputs": [
    {
     "name": "stdout",
     "output_type": "stream",
     "text": [
      "Lottery\n",
      "event 0 prob = 0.236 outcome = 88.0\n",
      "event 1 prob = 0.422 outcome = 68.0\n",
      "event 2 prob = 0.014 outcome = 90.0\n",
      "event 3 prob = 0.028 outcome = 9.0\n",
      "event 4 prob = 0.300 outcome = 7.0\n"
     ]
    }
   ],
   "source": [
    "lot = make_simple_lottery(num_events=5)\n",
    "print_lottery(lot)"
   ]
  },
  {
   "cell_type": "markdown",
   "metadata": {},
   "source": [
    "A compound lottery has a lottery as an outcome in an event.  The following code will take a simple lottery and make it a compound lottery."
   ]
  },
  {
   "cell_type": "code",
   "execution_count": 32,
   "metadata": {},
   "outputs": [],
   "source": [
    "def might_make_compound_lottery(lottery, min_pay = 0, max_pay = 100, num_events = 2, prob_compound_event = .5):\n",
    "    \"\"\"For each event in a simple lottery, turn that event's outcome into a lottery with prob_compound_event\n",
    "    \"\"\"\n",
    "    new_lottery = [ ]\n",
    "    for event in lottery:\n",
    "        if random.random() <= prob_compound_event:\n",
    "            lot = make_simple_lottery(min_pay = min_pay, max_pay = max_pay, num_events = num_events)\n",
    "            new_event = {}\n",
    "            new_event['out'] = lot\n",
    "            new_event['prob'] = event['prob']\n",
    "        else:\n",
    "            new_event = event\n",
    "        new_lottery.append(new_event)\n",
    "    return new_lottery\n"
   ]
  },
  {
   "cell_type": "code",
   "execution_count": 33,
   "metadata": {},
   "outputs": [
    {
     "name": "stdout",
     "output_type": "stream",
     "text": [
      "Lottery\n",
      "event 0 prob = 0.110 outcome = 84.0, utility = 16.3303\n",
      "event 1 prob = 0.784 outcome = 25.0, utility = 8.0000\n",
      "event 2 prob = 0.100 outcome = 87.0, utility = 16.6548\n",
      "event 3 prob = 0.002 outcome = 16.0, utility = 6.0000\n",
      "event 4 prob = 0.003 outcome = 49.0, utility = 12.0000\n",
      "Lottery\n",
      "event 0 prob = 0.110 outcome = lottery\n",
      "    event 0 prob = 0.881 outcome = 50.0,utility = 12.1421\n",
      "    event 1 prob = 0.119 outcome = 9.0,utility = 4.0000\n",
      "event 1 prob = 0.784 outcome = lottery\n",
      "    event 0 prob = 0.189 outcome = 23.0,utility = 7.5917\n",
      "    event 1 prob = 0.811 outcome = 37.0,utility = 10.1655\n",
      "event 2 prob = 0.100 outcome = lottery\n",
      "    event 0 prob = 0.794 outcome = 96.0,utility = 17.5959\n",
      "    event 1 prob = 0.206 outcome = 78.0,utility = 15.6635\n",
      "event 3 prob = 0.002 outcome = 16.0, utility = 6.0000\n",
      "event 4 prob = 0.003 outcome = 49.0, utility = 12.0000\n"
     ]
    }
   ],
   "source": [
    "lot = make_simple_lottery(num_events = 5)\n",
    "print_lottery_with_utility(lot, crra_utility)\n",
    "c_lot = might_make_compound_lottery(lot)\n",
    "print_lottery_with_utility(c_lot, crra_utility)"
   ]
  },
  {
   "cell_type": "markdown",
   "metadata": {},
   "source": [
    "### Building lists of lotteries"
   ]
  },
  {
   "cell_type": "code",
   "execution_count": 35,
   "metadata": {},
   "outputs": [],
   "source": [
    "def print_lottery_list(lot_list):\n",
    "    print(\"Lottery list\")\n",
    "    for k, lottery in enumerate(lot_list):\n",
    "        print_lottery(lottery)\n",
    "    print()"
   ]
  },
  {
   "cell_type": "code",
   "execution_count": 36,
   "metadata": {},
   "outputs": [],
   "source": [
    "import random\n",
    "\n",
    "def make_simple_lottery_list(num_lotteries = 2, min_pay = 0, max_pay = 100, \n",
    "                          min_events = 2, max_events = 2):\n",
    "    \"\"\"Builds a random list of lotteries\n",
    "    \n",
    "        Lottery payoffs are random draws beteen min_pay and max_pay,\n",
    "        Lottery probabilities are random uniform draws that sum to one.\n",
    "    \n",
    "        args:\n",
    "            number = int > 0, number of lotteries in list.\n",
    "            payoff in [min_pay, max_pay]\n",
    "            num_events in [min_events, max_events]\n",
    "    \"\"\"\n",
    "    lottery_list = []\n",
    "    for num_lot in range(num_lotteries):\n",
    "        num_events = random.randint(min_events, max_events)\n",
    "        lottery = make_simple_lottery(min_pay = min_pay, max_pay = max_pay, num_events = num_events)\n",
    "        lottery_list.append(lottery)\n",
    "       \n",
    "    return lottery_list"
   ]
  },
  {
   "cell_type": "code",
   "execution_count": 37,
   "metadata": {},
   "outputs": [
    {
     "name": "stdout",
     "output_type": "stream",
     "text": [
      "Lottery list\n",
      "Lottery\n",
      "event 0 prob = 0.864 outcome = 38.0\n",
      "event 1 prob = 0.136 outcome = 23.0\n",
      "event 2 prob = 0.001 outcome = 4.0\n",
      "Lottery\n",
      "event 0 prob = 0.624 outcome = 28.0\n",
      "event 1 prob = 0.220 outcome = 36.0\n",
      "event 2 prob = 0.156 outcome = 72.0\n",
      "Lottery\n",
      "event 0 prob = 0.079 outcome = 80.0\n",
      "event 1 prob = 0.921 outcome = 85.0\n",
      "Lottery\n",
      "event 0 prob = 0.326 outcome = 52.0\n",
      "event 1 prob = 0.030 outcome = 61.0\n",
      "event 2 prob = 0.085 outcome = 4.0\n",
      "event 3 prob = 0.559 outcome = 52.0\n",
      "\n"
     ]
    }
   ],
   "source": [
    "lottery_list = make_simple_lottery_list(num_lotteries= 4, max_events = 4)\n",
    "print_lottery_list(lottery_list)"
   ]
  },
  {
   "cell_type": "code",
   "execution_count": 38,
   "metadata": {},
   "outputs": [],
   "source": [
    "def make_compound_lottery_list(num_lotteries = 2, \n",
    "                               min_pay = 0,\n",
    "                               max_pay = 100, \n",
    "                               min_events = 2, \n",
    "                               max_events = 2,\n",
    "                               prob_compound_event = .5): \n",
    "    \"\"\"Builds a random list of lotteries\n",
    "    \n",
    "        Lottery payoffs are random draws between min_pay and max_pay,\n",
    "        Lottery probabilities are random uniform draws that sum to one.\n",
    "    \n",
    "        args:\n",
    "            number = int > 0, number of lotteries in list.\n",
    "            compound = bool, if True allows compound lotteries one deep,\n",
    "            negative = bool, if False min_pay = 0, if True min_pay = -max_pay.\n",
    "\n",
    "        This works for  a  compound lottery of depth 2, i.e., a lottery with an event that is also a lottery.\n",
    "        TODO: make this work for any finite depth.\n",
    "    \"\"\"\n",
    "    lottery_list = make_simple_lottery_list(num_lotteries = num_lotteries,\n",
    "                                                        min_pay = min_pay, \n",
    "                                                        max_pay = max_pay, \n",
    "                                                        min_events = min_events,\n",
    "                                                        max_events = max_events)\n",
    "    lot_list = []\n",
    "    for lottery in lottery_list:\n",
    "        num_events = random.randint(min_events, max_events)\n",
    "        lot = might_make_compound_lottery(lottery, min_pay = min_pay,\n",
    "                                          max_pay = max_pay, num_events = num_events,\n",
    "                                          prob_compound_event = .5)\n",
    "        lot_list.append(lot)\n",
    "    return lot_list"
   ]
  },
  {
   "cell_type": "code",
   "execution_count": 39,
   "metadata": {},
   "outputs": [
    {
     "name": "stdout",
     "output_type": "stream",
     "text": [
      "Lottery list\n",
      "Lottery\n",
      "event 0 prob = 0.079 outcome = lottery\n",
      "    event 0 prob = 0.846 outcome = 32.0\n",
      "    event 1 prob = 0.126 outcome = 77.0\n",
      "    event 2 prob = 0.022 outcome = 63.0\n",
      "    event 3 prob = 0.006 outcome = 89.0\n",
      "event 1 prob = 0.032 outcome = lottery\n",
      "    event 0 prob = 0.091 outcome = 84.0\n",
      "    event 1 prob = 0.614 outcome = 75.0\n",
      "    event 2 prob = 0.104 outcome = 97.0\n",
      "    event 3 prob = 0.191 outcome = 41.0\n",
      "event 2 prob = 0.889 outcome = 17.0\n",
      "Lottery\n",
      "event 0 prob = 0.945 outcome = 46.0\n",
      "event 1 prob = 0.032 outcome = lottery\n",
      "    event 0 prob = 0.019 outcome = 2.0\n",
      "    event 1 prob = 0.429 outcome = 3.0\n",
      "    event 2 prob = 0.348 outcome = 28.0\n",
      "    event 3 prob = 0.204 outcome = 89.0\n",
      "event 2 prob = 0.023 outcome = 97.0\n",
      "Lottery\n",
      "event 0 prob = 0.873 outcome = lottery\n",
      "    event 0 prob = 0.140 outcome = 98.0\n",
      "    event 1 prob = 0.860 outcome = 21.0\n",
      "event 1 prob = 0.090 outcome = lottery\n",
      "    event 0 prob = 0.222 outcome = 34.0\n",
      "    event 1 prob = 0.778 outcome = 51.0\n",
      "event 2 prob = 0.032 outcome = lottery\n",
      "    event 0 prob = 0.497 outcome = 79.0\n",
      "    event 1 prob = 0.503 outcome = 45.0\n",
      "event 3 prob = 0.004 outcome = lottery\n",
      "    event 0 prob = 0.284 outcome = 33.0\n",
      "    event 1 prob = 0.716 outcome = 86.0\n",
      "Lottery\n",
      "event 0 prob = 0.517 outcome = lottery\n",
      "    event 0 prob = 0.883 outcome = 68.0\n",
      "    event 1 prob = 0.055 outcome = 19.0\n",
      "    event 2 prob = 0.062 outcome = 99.0\n",
      "event 1 prob = 0.353 outcome = 76.0\n",
      "event 2 prob = 0.052 outcome = lottery\n",
      "    event 0 prob = 0.991 outcome = 37.0\n",
      "    event 1 prob = 0.007 outcome = 76.0\n",
      "    event 2 prob = 0.002 outcome = 24.0\n",
      "event 3 prob = 0.078 outcome = 19.0\n",
      "Lottery\n",
      "event 0 prob = 0.581 outcome = lottery\n",
      "    event 0 prob = 0.121 outcome = 5.0\n",
      "    event 1 prob = 0.264 outcome = 72.0\n",
      "    event 2 prob = 0.616 outcome = 85.0\n",
      "event 1 prob = 0.366 outcome = 77.0\n",
      "event 2 prob = 0.054 outcome = 17.0\n",
      "\n"
     ]
    }
   ],
   "source": [
    "lot_list = make_compound_lottery_list(num_lotteries = 5,\n",
    "                                      min_pay = 0,\n",
    "                                      max_pay = 100,\n",
    "                                      min_events = 2,\n",
    "                                      max_events = 4,\n",
    "                                      prob_compound_event = .5)\n",
    "print_lottery_list(lot_list)"
   ]
  },
  {
   "cell_type": "code",
   "execution_count": 40,
   "metadata": {},
   "outputs": [],
   "source": [
    "import copy\n",
    "def reduce_lottery(lottery):\n",
    "    \"\"\" Reduces compound lottery to a simple lottery.\n",
    "    \n",
    "        A compound lottery has sub-lotteries as outcomes.\n",
    "        A simple lottery only has payoffs as outcomes.\n",
    "        \n",
    "        args:\n",
    "            lottery, list of dictionaries.\n",
    "        returns:\n",
    "            simple_lottery, list of dictionaries with no sub-lottery.\n",
    "        This should work for arbitrayry depth of compound lotteies but has \n",
    "            only been tested on a depth of 2.\n",
    "        TODO: Test this on arbitrary depths once compound builder can do this.\n",
    "    \"\"\"\n",
    "    compound = True\n",
    "    test_lottery = copy.deepcopy(lottery)\n",
    "    while compound:\n",
    "        compound = False\n",
    "        new_lottery = []\n",
    "        for event in test_lottery:\n",
    "            if type(event['out']) == list:\n",
    "                for subevent in event['out']:\n",
    "                    new_event = {}\n",
    "                    new_event['out'] = subevent['out']\n",
    "                    if type(subevent['out']) == list: \n",
    "                        compound = True\n",
    "                    new_event['prob'] = event['prob']*subevent['prob']\n",
    "                    new_lottery.append(new_event)\n",
    "            else:\n",
    "                new_lottery.append(event)\n",
    "        if compound == True: \n",
    "            test_lottery = copy.deepcopy(new_lottery)\n",
    "    return new_lottery"
   ]
  },
  {
   "cell_type": "code",
   "execution_count": 41,
   "metadata": {},
   "outputs": [
    {
     "name": "stdout",
     "output_type": "stream",
     "text": [
      "Lottery list\n",
      "Lottery\n",
      "event 0 prob = 0.487 outcome = 82.0\n",
      "event 1 prob = 0.319 outcome = 57.0\n",
      "event 2 prob = 0.194 outcome = 69.0\n",
      "Lottery\n",
      "event 0 prob = 0.496 outcome = 71.0\n",
      "event 1 prob = 0.504 outcome = 17.0\n",
      "Lottery\n",
      "event 0 prob = 0.573 outcome = lottery\n",
      "    event 0 prob = 0.759 outcome = 42.0\n",
      "    event 1 prob = 0.037 outcome = 54.0\n",
      "    event 2 prob = 0.203 outcome = 17.0\n",
      "event 1 prob = 0.297 outcome = 49.0\n",
      "event 2 prob = 0.114 outcome = 9.0\n",
      "event 3 prob = 0.016 outcome = lottery\n",
      "    event 0 prob = 0.943 outcome = 31.0\n",
      "    event 1 prob = 0.043 outcome = 1.0\n",
      "    event 2 prob = 0.014 outcome = 64.0\n",
      "Lottery\n",
      "event 0 prob = 0.503 outcome = lottery\n",
      "    event 0 prob = 0.937 outcome = 86.0\n",
      "    event 1 prob = 0.022 outcome = 39.0\n",
      "    event 2 prob = 0.041 outcome = 83.0\n",
      "event 1 prob = 0.494 outcome = lottery\n",
      "    event 0 prob = 0.239 outcome = 19.0\n",
      "    event 1 prob = 0.596 outcome = 84.0\n",
      "    event 2 prob = 0.165 outcome = 85.0\n",
      "event 2 prob = 0.000 outcome = lottery\n",
      "    event 0 prob = 0.496 outcome = 42.0\n",
      "    event 1 prob = 0.377 outcome = 1.0\n",
      "    event 2 prob = 0.127 outcome = 26.0\n",
      "event 3 prob = 0.003 outcome = lottery\n",
      "    event 0 prob = 0.851 outcome = 40.0\n",
      "    event 1 prob = 0.105 outcome = 1.0\n",
      "    event 2 prob = 0.044 outcome = 9.0\n",
      "Lottery\n",
      "event 0 prob = 0.079 outcome = lottery\n",
      "    event 0 prob = 0.489 outcome = 89.0\n",
      "    event 1 prob = 0.343 outcome = 27.0\n",
      "    event 2 prob = 0.168 outcome = 34.0\n",
      "event 1 prob = 0.676 outcome = lottery\n",
      "    event 0 prob = 0.995 outcome = 34.0\n",
      "    event 1 prob = 0.002 outcome = 74.0\n",
      "    event 2 prob = 0.002 outcome = 52.0\n",
      "event 2 prob = 0.245 outcome = lottery\n",
      "    event 0 prob = 0.181 outcome = 47.0\n",
      "    event 1 prob = 0.762 outcome = 80.0\n",
      "    event 2 prob = 0.057 outcome = 51.0\n",
      "\n",
      "True\n",
      "True\n",
      "True\n",
      "True\n",
      "True\n",
      "Lottery list\n",
      "Lottery\n",
      "event 0 prob = 0.487 outcome = 82.0\n",
      "event 1 prob = 0.319 outcome = 57.0\n",
      "event 2 prob = 0.194 outcome = 69.0\n",
      "Lottery\n",
      "event 0 prob = 0.496 outcome = 71.0\n",
      "event 1 prob = 0.504 outcome = 17.0\n",
      "Lottery\n",
      "event 0 prob = 0.435 outcome = 42.0\n",
      "event 1 prob = 0.021 outcome = 54.0\n",
      "event 2 prob = 0.117 outcome = 17.0\n",
      "event 3 prob = 0.297 outcome = 49.0\n",
      "event 4 prob = 0.114 outcome = 9.0\n",
      "event 5 prob = 0.015 outcome = 31.0\n",
      "event 6 prob = 0.001 outcome = 1.0\n",
      "event 7 prob = 0.000 outcome = 64.0\n",
      "Lottery\n",
      "event 0 prob = 0.472 outcome = 86.0\n",
      "event 1 prob = 0.011 outcome = 39.0\n",
      "event 2 prob = 0.020 outcome = 83.0\n",
      "event 3 prob = 0.118 outcome = 19.0\n",
      "event 4 prob = 0.294 outcome = 84.0\n",
      "event 5 prob = 0.082 outcome = 85.0\n",
      "event 6 prob = 0.000 outcome = 42.0\n",
      "event 7 prob = 0.000 outcome = 1.0\n",
      "event 8 prob = 0.000 outcome = 26.0\n",
      "event 9 prob = 0.002 outcome = 40.0\n",
      "event 10 prob = 0.000 outcome = 1.0\n",
      "event 11 prob = 0.000 outcome = 9.0\n",
      "Lottery\n",
      "event 0 prob = 0.039 outcome = 89.0\n",
      "event 1 prob = 0.027 outcome = 27.0\n",
      "event 2 prob = 0.013 outcome = 34.0\n",
      "event 3 prob = 0.673 outcome = 34.0\n",
      "event 4 prob = 0.002 outcome = 74.0\n",
      "event 5 prob = 0.002 outcome = 52.0\n",
      "event 6 prob = 0.044 outcome = 47.0\n",
      "event 7 prob = 0.187 outcome = 80.0\n",
      "event 8 prob = 0.014 outcome = 51.0\n",
      "\n"
     ]
    }
   ],
   "source": [
    "lot_list = make_compound_lottery_list(num_lotteries = 5,\n",
    "                                      min_pay = 0,\n",
    "                                      max_pay = 100,\n",
    "                                      min_events = 2,\n",
    "                                      max_events = 4,\n",
    "                                      prob_compound_event = .5)\n",
    "print_lottery_list(lot_list)\n",
    "\n",
    "reduced_lot_list = []\n",
    "for lottery in lot_list:\n",
    "    reduced_lottery = reduce_lottery(lottery)\n",
    "    print(is_lottery(reduced_lottery))\n",
    "    reduced_lot_list.append(reduced_lottery)\n",
    "\n",
    "print_lottery_list(reduced_lot_list)"
   ]
  },
  {
   "cell_type": "markdown",
   "metadata": {},
   "source": [
    "## Step Three: Code an expected value function and expected utility function"
   ]
  },
  {
   "cell_type": "markdown",
   "metadata": {},
   "source": [
    "### Expected Value Coded Here"
   ]
  },
  {
   "cell_type": "code",
   "execution_count": 44,
   "metadata": {},
   "outputs": [],
   "source": [
    "def expected_value(lottery):\n",
    "    \"\"\"Calculate expected value of a lottery\n",
    "    \n",
    "        arg:\n",
    "            lottery, list of dictioaries\n",
    "        \n",
    "        returns:\n",
    "            ev, float, expected value of the lottery\n",
    "    \"\"\"\n",
    "    new_lottery = reduce_lottery(lottery)\n",
    "    ev = 0.0\n",
    "    for node in new_lottery:\n",
    "        if type(node['out']) == type([]):\n",
    "            # make recursive call to evaluate sub-lottery\n",
    "            ev = node['prob'] * expected_value(node['out'])\n",
    "        else:\n",
    "            ev = ev + node['prob'] * node['out']\n",
    "    return ev"
   ]
  },
  {
   "cell_type": "code",
   "execution_count": 45,
   "metadata": {},
   "outputs": [
    {
     "name": "stdout",
     "output_type": "stream",
     "text": [
      "Expected value of [{'out': 100, 'prob': 0.5}, {'out': 50, 'prob': 0.25}, {'out': 50, 'prob': 0.25}] = 75.0.\n"
     ]
    }
   ],
   "source": [
    "# Text expected value function\n",
    "lottery = [{'out': 100, 'prob': 0.5}, {'out': 50, 'prob': 0.25}, {'out': 50, 'prob': 0.25}]\n",
    "print(f\"Expected value of {lottery} = {expected_value(lottery)}.\")\n"
   ]
  },
  {
   "cell_type": "code",
   "execution_count": 46,
   "metadata": {},
   "outputs": [
    {
     "name": "stdout",
     "output_type": "stream",
     "text": [
      "10.0\n",
      "6.0\n"
     ]
    }
   ],
   "source": [
    "# furthermore we can use partial functions to change the parameters of linear_utility before using it\n",
    "from functools import partial\n",
    "\n",
    "m=10\n",
    "print(linear_utility(m))\n",
    "utility = partial(linear_utility, intercept = 1, slope = .5)\n",
    "print(utility(m)) # utility is now linear_utility with new parameters\n"
   ]
  },
  {
   "cell_type": "markdown",
   "metadata": {},
   "source": [
    "### Code Expected Utility Here"
   ]
  },
  {
   "cell_type": "code",
   "execution_count": 48,
   "metadata": {},
   "outputs": [],
   "source": [
    "def expected_utility(lottery, util):\n",
    "    \"\"\"Calculate expected utility of a lottery\n",
    "    \n",
    "        arg:\n",
    "            lottery, list of dictioaries containing \n",
    "                     keys, values {'prob': pr, 'outcome': out}\n",
    "                         pr, float between 0.0 and 1.0 inclusive\n",
    "                         out, either another lottery or a float payoff\n",
    "                     \n",
    "            u, utility function, returns utility of a payoff outcome\n",
    "        \n",
    "        returns:\n",
    "            eu, float, expected utility of the lottery\n",
    "    \"\"\"\n",
    "    eu = 0.0\n",
    "    new_lottery = reduce_lottery(lottery)\n",
    "    for event in new_lottery:\n",
    "            eu += util(event['out'])*event['prob']\n",
    "    return float(eu)"
   ]
  },
  {
   "cell_type": "code",
   "execution_count": 49,
   "metadata": {},
   "outputs": [
    {
     "name": "stdout",
     "output_type": "stream",
     "text": [
      "Lottery\n",
      "event 0 prob = 0.500 outcome = 100\n",
      "event 1 prob = 0.250 outcome = 50\n",
      "event 2 prob = 0.250 outcome = 50\n",
      "Expected utility = 15.0711.\n"
     ]
    }
   ],
   "source": [
    "# Text expected utility function\n",
    "lottery = [{'out': 100, 'prob': 0.5}, {'out': 50, 'prob': 0.25}, {'out': 50, 'prob': 0.25}]\n",
    "print_lottery(lottery)\n",
    "print(f\"Expected utility = {expected_utility(lottery, crra_utility):.4f}.\")\n"
   ]
  },
  {
   "cell_type": "code",
   "execution_count": 50,
   "metadata": {},
   "outputs": [
    {
     "name": "stdout",
     "output_type": "stream",
     "text": [
      "Lottery list\n",
      "Lottery\n",
      "event 0 prob = 0.611 outcome = 51.0\n",
      "event 1 prob = 0.116 outcome = lottery\n",
      "    event 0 prob = 0.777 outcome = 71.0\n",
      "    event 1 prob = 0.223 outcome = 27.0\n",
      "event 2 prob = 0.065 outcome = lottery\n",
      "    event 0 prob = 0.496 outcome = 79.0\n",
      "    event 1 prob = 0.504 outcome = 90.0\n",
      "event 3 prob = 0.208 outcome = 35.0\n",
      "Lottery\n",
      "event 0 prob = 0.052 outcome = lottery\n",
      "    event 0 prob = 0.878 outcome = 23.0\n",
      "    event 1 prob = 0.103 outcome = 82.0\n",
      "    event 2 prob = 0.020 outcome = 76.0\n",
      "event 1 prob = 0.948 outcome = 77.0\n",
      "Lottery\n",
      "event 0 prob = 0.107 outcome = lottery\n",
      "    event 0 prob = 0.264 outcome = 29.0\n",
      "    event 1 prob = 0.490 outcome = 23.0\n",
      "    event 2 prob = 0.072 outcome = 9.0\n",
      "    event 3 prob = 0.174 outcome = 39.0\n",
      "event 1 prob = 0.279 outcome = 9.0\n",
      "event 2 prob = 0.315 outcome = lottery\n",
      "    event 0 prob = 0.183 outcome = 92.0\n",
      "    event 1 prob = 0.756 outcome = 44.0\n",
      "    event 2 prob = 0.017 outcome = 83.0\n",
      "    event 3 prob = 0.044 outcome = 94.0\n",
      "event 3 prob = 0.300 outcome = 54.0\n",
      "Lottery\n",
      "event 0 prob = 0.085 outcome = 13.0\n",
      "event 1 prob = 0.294 outcome = 92.0\n",
      "event 2 prob = 0.621 outcome = lottery\n",
      "    event 0 prob = 0.331 outcome = 48.0\n",
      "    event 1 prob = 0.669 outcome = 97.0\n",
      "Lottery\n",
      "event 0 prob = 0.612 outcome = 17.0\n",
      "event 1 prob = 0.388 outcome = lottery\n",
      "    event 0 prob = 0.948 outcome = 3.0\n",
      "    event 1 prob = 0.005 outcome = 28.0\n",
      "    event 2 prob = 0.015 outcome = 91.0\n",
      "    event 3 prob = 0.032 outcome = 86.0\n",
      "\n",
      "Lottery 0 has ev = 51.0112 and eu = 51.0112\n",
      "Lottery 1 has ev = 74.5739 and eu = 74.5739\n",
      "Lottery 2 has ev = 39.0203 and eu = 39.0203\n",
      "Lottery 3 has ev = 78.3237 and eu = 78.3237\n",
      "Lottery 4 has ev = 13.1525 and eu = 13.1525\n"
     ]
    }
   ],
   "source": [
    "lot_list = make_compound_lottery_list(num_lotteries = 5,\n",
    "                                      min_pay = 0,\n",
    "                                      max_pay = 100,\n",
    "                                      min_events = 2,\n",
    "                                      max_events = 4,\n",
    "                                      prob_compound_event = .5)\n",
    "print_lottery_list(lot_list)\n",
    "util = partial(linear_utility, intercept = 0, slope = 1)\n",
    "for k, lottery in enumerate(lot_list):\n",
    "    print(f\"Lottery {k} has ev = {expected_value(lottery):.4f} and eu = {expected_utility(lottery, util):.4f}\")"
   ]
  },
  {
   "cell_type": "markdown",
   "metadata": {},
   "source": [
    "## Step Four: complementary functions\n",
    "\n",
    "In this step you will add two complementary functions.  The first function calculates the certainty equivalent of a simple lottery.  The second calculates the risk premium of a lottery. "
   ]
  },
  {
   "cell_type": "code",
   "execution_count": 52,
   "metadata": {},
   "outputs": [],
   "source": [
    "# first_try here\n",
    "def certainty_equivalent_learn(lottery, u, min_x, max_x):\n",
    "    \"\"\" Returns the certainty equivalent (ce) of a lottery.\n",
    "    \n",
    "        u(ce) = expected_utility(lottery, u)\n",
    "        \n",
    "        args:\n",
    "            lottery, list of dictionaries.\n",
    "            u, utility function defined over payoffs in dictionaries\n",
    "        returns:\n",
    "            ce, float, certainty equivalent\n",
    "    \"\"\"\n",
    "    eu = expected_utility(lottery, u)\n",
    "    print(f\"expected utility = {eu}\")\n",
    "    # now do a bisection search for x such that u(x) = eu\n",
    "    lower_bound = min_x\n",
    "    upper_bound = max_x\n",
    "    for k in range(6):\n",
    "        u_upper = u(upper_bound)\n",
    "        u_lower = u(lower_bound)\n",
    "        try_this = .5*lower_bound + .5*upper_bound\n",
    "        u_try = u(try_this)\n",
    "        print(f\"lb = {lower_bound}, try = {try_this}, ub = {upper_bound}\")\n",
    "        print(f\" eu = {eu}, u({try_this}) = {u_try}\")\n",
    "        if u_try < eu:\n",
    "            lower_bound = try_this\n",
    "        else:\n",
    "            upper_bound = try_this"
   ]
  },
  {
   "cell_type": "code",
   "execution_count": 53,
   "metadata": {},
   "outputs": [
    {
     "name": "stdout",
     "output_type": "stream",
     "text": [
      "Lottery\n",
      "event 0 prob = 0.809 outcome = 26.0\n",
      "event 1 prob = 0.173 outcome = 11.0\n",
      "event 2 prob = 0.011 outcome = 97.0\n",
      "event 3 prob = 0.000 outcome = 5.0\n",
      "event 4 prob = 0.006 outcome = 4.0\n",
      "expected utility = 13.954714375916215\n",
      "lb = 0, try = 50.0, ub = 100\n",
      " eu = 13.954714375916215, u(50.0) = 17.320508075688775\n",
      "lb = 0, try = 25.0, ub = 50.0\n",
      " eu = 13.954714375916215, u(25.0) = 14.142135623730951\n",
      "lb = 0, try = 12.5, ub = 25.0\n",
      " eu = 13.954714375916215, u(12.5) = 12.24744871391589\n",
      "lb = 12.5, try = 18.75, ub = 25.0\n",
      " eu = 13.954714375916215, u(18.75) = 13.228756555322953\n",
      "lb = 18.75, try = 21.875, ub = 25.0\n",
      " eu = 13.954714375916215, u(21.875) = 13.693063937629153\n",
      "lb = 21.875, try = 23.4375, ub = 25.0\n",
      " eu = 13.954714375916215, u(23.4375) = 13.919410907075054\n"
     ]
    }
   ],
   "source": [
    "min_pay = 0\n",
    "max_pay = 100\n",
    "lot =  make_simple_lottery(min_pay = 0, max_pay = 100, num_events = 5)\n",
    "print_lottery(lot)\n",
    "\n",
    "ce = certainty_equivalent_learn(lot, hara_utility, min_pay, max_pay)"
   ]
  },
  {
   "cell_type": "code",
   "execution_count": 54,
   "metadata": {},
   "outputs": [],
   "source": [
    "# first_try here\n",
    "def certainty_equivalent(lottery, u, min_x, max_x, precision = .1):\n",
    "    \"\"\" Returns the certainty equivalent (ce) of a lottery.\n",
    "    \n",
    "        u(ce) = expected_utility(lottery, u)\n",
    "        \n",
    "        args:\n",
    "            lottery, list of dictionaries.\n",
    "            u, utility function defined over payoffs in dictionaries\n",
    "        returns:\n",
    "            ce, float, certainty equivalent\n",
    "        TODO: only tested on linear_utility, needs to be tested with other utility functions\n",
    "    \"\"\"\n",
    "    eu = expected_utility(lottery, u)\n",
    "    print(f\"expected utility = {eu:.4f}\")\n",
    "    # now do a bisection search for x such that u(x) = eu\n",
    "    lower_bound = min_x\n",
    "    upper_bound = max_x\n",
    "    num_trys = 0\n",
    "    while(True):\n",
    "        num_trys += 1\n",
    "        u_upper = u(upper_bound)\n",
    "        u_lower = u(lower_bound)\n",
    "        try_this = .5*lower_bound + .5*upper_bound\n",
    "        u_try = u(try_this)\n",
    "        #print(f\"lb = {lower_bound}, try = {try_this}, ub = {upper_bound}\")\n",
    "        #print(f\" eu = {eu}, u({try_this}) = {u_try}\")\n",
    "        if is_near_target(u_try, target = eu, precision = precision):\n",
    "            return try_this, u_try, eu, num_trys \n",
    "        if u_try < eu:\n",
    "            lower_bound = try_this\n",
    "        else:\n",
    "            upper_bound = try_this"
   ]
  },
  {
   "cell_type": "code",
   "execution_count": 55,
   "metadata": {},
   "outputs": [
    {
     "name": "stdout",
     "output_type": "stream",
     "text": [
      "Lottery\n",
      "event 0 prob = 0.081 outcome = 425.0, utility = 42.4264\n",
      "event 1 prob = 0.778 outcome = 960.0, utility = 62.7694\n",
      "event 2 prob = 0.055 outcome = 881.0, utility = 60.1997\n",
      "event 3 prob = 0.041 outcome = 151.0, utility = 26.5330\n",
      "event 4 prob = 0.045 outcome = 944.0, utility = 62.2575\n",
      "expected utility = 59.4750\n",
      "pre = 0.100000, ce = 859.3750, diff = 0.001840\n",
      "ce = 859.3750, u(ce) = 59.4769, num_trys = 6\n",
      "expected utility = 59.4750\n",
      "pre = 0.010000, ce = 859.3750, diff = 0.001840\n",
      "ce = 859.3750, u(ce) = 59.4769, num_trys = 6\n",
      "expected utility = 59.4750\n",
      "pre = 0.001000, ce = 859.3140, diff = -0.000212\n",
      "ce = 859.3140, u(ce) = 59.4748, num_trys = 14\n",
      "expected utility = 59.4750\n",
      "pre = 0.000100, ce = 859.3216, diff = 0.000044\n",
      "ce = 859.3216, u(ce) = 59.4751, num_trys = 17\n",
      "expected utility = 59.4750\n",
      "pre = 0.000010, ce = 859.3202, diff = -0.000004\n",
      "ce = 859.3202, u(ce) = 59.4750, num_trys = 21\n"
     ]
    }
   ],
   "source": [
    "min_pay = 0\n",
    "max_pay = 1000\n",
    "precision = 1\n",
    "lot =  make_simple_lottery(min_pay = min_pay, max_pay = max_pay, num_events = 5)\n",
    "print_lottery_with_utility(lot, hara_utility)\n",
    "\n",
    "for k in range(5):\n",
    "    precision = precision * .1\n",
    "    ce, u_ce, eu, trys = certainty_equivalent(lot, hara_utility, min_pay, max_pay, precision)\n",
    "    print(f\"pre = {precision:.6f}, ce = {ce:.4f}, diff = {u_ce-eu:.6f}\")\n",
    "    print(f\"ce = {ce:.4f}, u(ce) = {u_ce:.4f}, num_trys = {trys}\")"
   ]
  },
  {
   "cell_type": "code",
   "execution_count": 56,
   "metadata": {},
   "outputs": [],
   "source": [
    "def risk_premium(lottery, ce):\n",
    "    \"\"\" Returns the risk premium (rp) of a lottery.\n",
    "    \n",
    "        rp = expected_value(lottery) - certainty_equivalent(lottery, u)\n",
    "        \n",
    "        args:\n",
    "            lottery, list of dictionaries.\n",
    "            u, utility function defined over payoffs.\n",
    "        returns:\n",
    "            rp, float, risk premium\n",
    "    \"\"\"\n",
    "    return expected_value(lottery) - ce"
   ]
  },
  {
   "cell_type": "code",
   "execution_count": 57,
   "metadata": {},
   "outputs": [
    {
     "name": "stdout",
     "output_type": "stream",
     "text": [
      "Lottery\n",
      "event 0 prob = 0.094 outcome = 321.0\n",
      "event 1 prob = 0.414 outcome = 741.0\n",
      "event 2 prob = 0.421 outcome = 464.0\n",
      "event 3 prob = 0.064 outcome = 91.0\n",
      "event 4 prob = 0.008 outcome = 220.0\n",
      "expected utility = 0.8865\n",
      "risk premium = 104.21717\n"
     ]
    }
   ],
   "source": [
    "lot =  make_simple_lottery(min_pay = 0, max_pay = 1000, num_events = 5)\n",
    "print_lottery(lot)\n",
    "ce, u_ce, eu, trys = certainty_equivalent(lot, exponential_utility, min_pay, max_pay, precision)\n",
    "print(f\"risk premium = {risk_premium(lot, ce):.5f}\")"
   ]
  },
  {
   "cell_type": "markdown",
   "metadata": {},
   "source": [
    "## Step Five:  Lottery choice function\n",
    "\n",
    "Choose a lottery with the highest expected utility from a list of lotteries."
   ]
  },
  {
   "cell_type": "code",
   "execution_count": 59,
   "metadata": {},
   "outputs": [],
   "source": [
    "def lottery_choice(lottery_list, u):\n",
    "    \"\"\" Choose the lottery with the highest expected utility\n",
    "        from lottery_list using utility function u.\n",
    "        \n",
    "        returns:\n",
    "            lottery_index, eu  expected utility of the lottery\n",
    "    \"\"\"\n",
    "    lottery_index = None\n",
    "    list_of_expected_u = []\n",
    "    for lottery in lottery_list:\n",
    "        lottery_utility = expected_utility(lottery, u)\n",
    "        list_of_expected_u.append(lottery_utility)\n",
    "    eu = max(list_of_expected_u)\n",
    "    lottery_index = list_of_expected_u.index(eu)\n",
    "    return lottery_index, eu"
   ]
  },
  {
   "cell_type": "code",
   "execution_count": 60,
   "metadata": {},
   "outputs": [
    {
     "name": "stdout",
     "output_type": "stream",
     "text": [
      "Lottery list\n",
      "Lottery\n",
      "event 0 prob = 0.647 outcome = lottery\n",
      "    event 0 prob = 0.946 outcome = 64.0\n",
      "    event 1 prob = 0.053 outcome = 55.0\n",
      "    event 2 prob = 0.001 outcome = 53.0\n",
      "event 1 prob = 0.347 outcome = lottery\n",
      "    event 0 prob = 0.545 outcome = 19.0\n",
      "    event 1 prob = 0.076 outcome = 10.0\n",
      "    event 2 prob = 0.379 outcome = 91.0\n",
      "event 2 prob = 0.002 outcome = lottery\n",
      "    event 0 prob = 0.440 outcome = 66.0\n",
      "    event 1 prob = 0.114 outcome = 92.0\n",
      "    event 2 prob = 0.446 outcome = 84.0\n",
      "event 3 prob = 0.003 outcome = lottery\n",
      "    event 0 prob = 0.229 outcome = 40.0\n",
      "    event 1 prob = 0.388 outcome = 76.0\n",
      "    event 2 prob = 0.383 outcome = 59.0\n",
      "Lottery\n",
      "event 0 prob = 0.247 outcome = 45.0\n",
      "event 1 prob = 0.207 outcome = lottery\n",
      "    event 0 prob = 0.206 outcome = 0.0\n",
      "    event 1 prob = 0.407 outcome = 100.0\n",
      "    event 2 prob = 0.387 outcome = 32.0\n",
      "event 2 prob = 0.238 outcome = 86.0\n",
      "event 3 prob = 0.309 outcome = 42.0\n",
      "Lottery\n",
      "event 0 prob = 0.255 outcome = lottery\n",
      "    event 0 prob = 0.414 outcome = 91.0\n",
      "    event 1 prob = 0.586 outcome = 42.0\n",
      "event 1 prob = 0.037 outcome = 87.0\n",
      "event 2 prob = 0.580 outcome = lottery\n",
      "    event 0 prob = 0.959 outcome = 52.0\n",
      "    event 1 prob = 0.041 outcome = 60.0\n",
      "event 3 prob = 0.129 outcome = 10.0\n",
      "Lottery\n",
      "event 0 prob = 0.453 outcome = 78.0\n",
      "event 1 prob = 0.349 outcome = 33.0\n",
      "event 2 prob = 0.157 outcome = lottery\n",
      "    event 0 prob = 0.323 outcome = 13.0\n",
      "    event 1 prob = 0.568 outcome = 10.0\n",
      "    event 2 prob = 0.109 outcome = 7.0\n",
      "event 3 prob = 0.041 outcome = lottery\n",
      "    event 0 prob = 0.519 outcome = 95.0\n",
      "    event 1 prob = 0.148 outcome = 59.0\n",
      "    event 2 prob = 0.333 outcome = 13.0\n",
      "Lottery\n",
      "event 0 prob = 0.803 outcome = lottery\n",
      "    event 0 prob = 0.403 outcome = 83.0\n",
      "    event 1 prob = 0.597 outcome = 4.0\n",
      "event 1 prob = 0.197 outcome = 37.0\n",
      "\n",
      "(0, 57.32282320877396)\n",
      " lottery 0 has expected value = 57.3228 and expected utility = 57.3228\n",
      " lottery 1 has expected value = 55.5052 and expected utility = 55.5052\n",
      " lottery 2 has expected value = 50.6875 and expected utility = 50.6875\n",
      " lottery 3 has expected value = 51.0719 and expected utility = 51.0719\n",
      " lottery 4 has expected value = 36.0776 and expected utility = 36.0776\n"
     ]
    }
   ],
   "source": [
    "lot_list = make_compound_lottery_list(num_lotteries = 5,\n",
    "                                      min_pay = 0,\n",
    "                                      max_pay = 100,\n",
    "                                      min_events = 2,\n",
    "                                      max_events = 4,\n",
    "                                      prob_compound_event = .5)\n",
    "print_lottery_list(lot_list)\n",
    "lot_choice = lottery_choice(lot_list, linear_utility)\n",
    "print(lot_choice)\n",
    "\n",
    "for k, lottery in enumerate(lot_list):\n",
    "    str_out = f\" lottery {k} has expected value = {expected_value(lottery):.4f}\"\n",
    "    str_out += f\" and expected utility = {expected_utility(lottery, linear_utility):.4f}\"\n",
    "    print(str_out)"
   ]
  },
  {
   "cell_type": "markdown",
   "metadata": {},
   "source": [
    "## Step Six:  The Holt-Laury procedure\n",
    "\n",
    "This is a well known procedure published by Holt and Laury and avialable on JSTOR [here](https://www.jstor.org/stable/3083270?Search=yes&resultItemClick=true&searchText=Holt&searchText=and&searchText=Laury&searchUri=%2Faction%2FdoAdvancedSearch%3Fc5%3DAND%26amp%3Bc6%3DAND%26amp%3Bf1%3Dall%26amp%3Bc3%3DAND%26amp%3Bq2%3D%26amp%3Bf5%3Dall%26amp%3Bq0%3DHolt%2Band%2BLaury%26amp%3Bf4%3Dall%26amp%3Bc4%3DAND%26amp%3Bsd%3D%26amp%3Bgroup%3Dnone%26amp%3Bq5%3D%26amp%3Bla%3D%26amp%3Bf0%3Dall%26amp%3Bisbn%3D%26amp%3Bf6%3Dall%26amp%3Bacc%3Don%26amp%3Bc1%3DAND%26amp%3Bq4%3D%26amp%3Bf3%3Dall%26amp%3Bq1%3D%26amp%3Bq6%3D%26amp%3Bpt%3D%26amp%3Bc2%3DAND%26amp%3Bf2%3Dall%26amp%3Bq3%3D%26amp%3Bed%3D&refreqid=search%3A63236d1b94e184a59d9526d0f794a141&socuuid=5613aad0-8774-4367-aeab-53105ec2672c&socplat=email).  In this step you code two functions.  The first function makes the list of Holt-Laury lottery choices.  The second function implements the Holt-Laury procedure.  Depending on the value of a default argument the subject will either be a human inputing choices of your `lottery_choice` function."
   ]
  },
  {
   "cell_type": "code",
   "execution_count": 62,
   "metadata": {},
   "outputs": [],
   "source": [
    "def print_lottery_pair(lottery_pair):\n",
    "    first_lottery = lottery_pair[0]\n",
    "    second_lottery = lottery_pair[1]\n",
    "    print(first_lottery, second_lottery)\n",
    "    "
   ]
  },
  {
   "cell_type": "code",
   "execution_count": 63,
   "metadata": {},
   "outputs": [
    {
     "name": "stdout",
     "output_type": "stream",
     "text": [
      "[{'prob': 0.1, 'out': 200}, {'prob': 0.9, 'out': 160}] [{'prob': 0.1, 'out': 385}, {'prob': 0.9, 'out': 10}]\n",
      "[{'prob': 0.2, 'out': 200}, {'prob': 0.8, 'out': 160}] [{'prob': 0.2, 'out': 385}, {'prob': 0.8, 'out': 10}]\n",
      "[{'prob': 0.3, 'out': 200}, {'prob': 0.7, 'out': 160}] [{'prob': 0.3, 'out': 385}, {'prob': 0.7, 'out': 10}]\n",
      "[{'prob': 0.4, 'out': 200}, {'prob': 0.6, 'out': 160}] [{'prob': 0.4, 'out': 385}, {'prob': 0.6, 'out': 10}]\n",
      "[{'prob': 0.5, 'out': 200}, {'prob': 0.5, 'out': 160}] [{'prob': 0.5, 'out': 385}, {'prob': 0.5, 'out': 10}]\n",
      "[{'prob': 0.6, 'out': 200}, {'prob': 0.4, 'out': 160}] [{'prob': 0.6, 'out': 385}, {'prob': 0.4, 'out': 10}]\n",
      "[{'prob': 0.7, 'out': 200}, {'prob': 0.3, 'out': 160}] [{'prob': 0.7, 'out': 385}, {'prob': 0.3, 'out': 10}]\n",
      "[{'prob': 0.8, 'out': 200}, {'prob': 0.2, 'out': 160}] [{'prob': 0.8, 'out': 385}, {'prob': 0.2, 'out': 10}]\n",
      "[{'prob': 0.9, 'out': 200}, {'prob': 0.1, 'out': 160}] [{'prob': 0.9, 'out': 385}, {'prob': 0.1, 'out': 10}]\n"
     ]
    }
   ],
   "source": [
    "def build_holt_laury_lotteries():\n",
    "    \"\"\"Returns list of Holt-Laury lottery pairs.\n",
    "    \n",
    "        returns:\n",
    "            holt_laury_lotteries, list of lists\n",
    "                inner list is a pair of lotteries for choice\n",
    "    \n",
    "    \"\"\"\n",
    "    #  Can we take advantage of the structure of lotteries in the Holt-Laury paper\n",
    "    pay_a_high = 200\n",
    "    pay_a_low = 160\n",
    "    pay_b_high = 385\n",
    "    pay_b_low =  10\n",
    "    # Now we can build holt_laury_lotteries\n",
    "    holt_laury_lotteries = []\n",
    "    p = 0.0\n",
    "    for k in range(9):\n",
    "        p = round(p + 0.10, 2)\n",
    "        lottery_a = [{'prob': p, 'out': pay_a_high}, {'prob': round(1.0-p, 2), 'out': pay_a_low}]\n",
    "        lottery_b = [{'prob': p, 'out': pay_b_high}, {'prob': round(1.0-p, 2), 'out': pay_b_low}]\n",
    "        holt_laury_lotteries.append([lottery_a, lottery_b])\n",
    "    return holt_laury_lotteries\n",
    "\n",
    "holt_laury_lotteries = build_holt_laury_lotteries()\n",
    "for lottery_pair in holt_laury_lotteries:\n",
    "    print_lottery_pair(lottery_pair)"
   ]
  },
  {
   "cell_type": "code",
   "execution_count": 64,
   "metadata": {},
   "outputs": [],
   "source": [
    "def print_holt_laury_lotteries(holt_laury_lotteries):\n",
    "    def print_event(event):\n",
    "        print(f\"({event['out']},{event['prob']})\", end = \"\")\n",
    "    TAB = \"  \"\n",
    "    \n",
    "    for index, lottery_pair in enumerate(holt_laury_lotteries):\n",
    "        print(f\"{index}. \", end = \"\")\n",
    "        for lottery in lottery_pair:\n",
    "            event_0 = lottery[0]\n",
    "            event_1 = lottery[1]\n",
    "            print_event(event_0)\n",
    "            print(\",\", end = \"\")\n",
    "            print_event(event_1)\n",
    "            print (TAB, end = \"\")\n",
    "        print()"
   ]
  },
  {
   "cell_type": "code",
   "execution_count": 65,
   "metadata": {},
   "outputs": [
    {
     "name": "stdout",
     "output_type": "stream",
     "text": [
      "0. (200,0.1),(160,0.9)  (385,0.1),(10,0.9)  \n",
      "1. (200,0.2),(160,0.8)  (385,0.2),(10,0.8)  \n",
      "2. (200,0.3),(160,0.7)  (385,0.3),(10,0.7)  \n",
      "3. (200,0.4),(160,0.6)  (385,0.4),(10,0.6)  \n",
      "4. (200,0.5),(160,0.5)  (385,0.5),(10,0.5)  \n",
      "5. (200,0.6),(160,0.4)  (385,0.6),(10,0.4)  \n",
      "6. (200,0.7),(160,0.3)  (385,0.7),(10,0.3)  \n",
      "7. (200,0.8),(160,0.2)  (385,0.8),(10,0.2)  \n",
      "8. (200,0.9),(160,0.1)  (385,0.9),(10,0.1)  \n"
     ]
    }
   ],
   "source": [
    "lots = build_holt_laury_lotteries()\n",
    "print_holt_laury_lotteries(lots)"
   ]
  },
  {
   "cell_type": "code",
   "execution_count": 66,
   "metadata": {},
   "outputs": [],
   "source": [
    "def get_lottery_choices(holt_laury_lotteries, u):\n",
    "    lottery_choices = []\n",
    "    for lottery_pair in holt_laury_lotteries:\n",
    "        k, eu = lottery_choice(lottery_pair, u)\n",
    "        lottery_choices.append(k)\n",
    "    return lottery_choices    "
   ]
  },
  {
   "cell_type": "code",
   "execution_count": 67,
   "metadata": {},
   "outputs": [],
   "source": [
    "def print_lottery_choices(lottery_choices):\n",
    "    for index, k in enumerate(lottery_choices):\n",
    "        if k == 0:\n",
    "            s = \"A\"\n",
    "            #    print(f\"In row {index} subject chose {s}.\")\n",
    "        elif k == 1:\n",
    "            s = \"B\"\n",
    "        else:\n",
    "            print(f\"unexpected value for lottery_choices({index}) = {k}\")\n",
    "            return False\n",
    "            #   print(f\"In row {index} subject chose {s}.\")\n",
    "        print(f\"In row {index} subject chose {s}.\")\n",
    "    return True  "
   ]
  },
  {
   "cell_type": "code",
   "execution_count": 69,
   "metadata": {},
   "outputs": [
    {
     "name": "stdout",
     "output_type": "stream",
     "text": [
      "0. (200,0.1),(160,0.9)  (385,0.1),(10,0.9)  \n",
      "1. (200,0.2),(160,0.8)  (385,0.2),(10,0.8)  \n",
      "2. (200,0.3),(160,0.7)  (385,0.3),(10,0.7)  \n",
      "3. (200,0.4),(160,0.6)  (385,0.4),(10,0.6)  \n",
      "4. (200,0.5),(160,0.5)  (385,0.5),(10,0.5)  \n",
      "5. (200,0.6),(160,0.4)  (385,0.6),(10,0.4)  \n",
      "6. (200,0.7),(160,0.3)  (385,0.7),(10,0.3)  \n",
      "7. (200,0.8),(160,0.2)  (385,0.8),(10,0.2)  \n",
      "8. (200,0.9),(160,0.1)  (385,0.9),(10,0.1)  \n",
      "In row 0 subject chose A.\n",
      "In row 1 subject chose A.\n",
      "In row 2 subject chose A.\n",
      "In row 3 subject chose A.\n",
      "In row 4 subject chose A.\n",
      "In row 5 subject chose A.\n",
      "In row 6 subject chose B.\n",
      "In row 7 subject chose B.\n",
      "In row 8 subject chose B.\n"
     ]
    },
    {
     "data": {
      "text/plain": [
       "True"
      ]
     },
     "execution_count": 69,
     "metadata": {},
     "output_type": "execute_result"
    }
   ],
   "source": [
    "lotteries = build_holt_laury_lotteries()\n",
    "print_holt_laury_lotteries(lotteries)\n",
    "choices = get_lottery_choices(lotteries, crra_utility)\n",
    "print_lottery_choices(choices)"
   ]
  },
  {
   "cell_type": "markdown",
   "metadata": {},
   "source": [
    "## Step Seven:  Stepwise elicitation algorithm\n",
    "\n",
    "The stepwise elicitation algorithm will first build a piecewise linear utility function for a human subject. You will then have your piecewise linear function make choices in the Holt-Laury procedure.  "
   ]
  },
  {
   "cell_type": "markdown",
   "metadata": {},
   "source": [
    "### Algorithm\n",
    "\n",
    "Step One: Set U(min) = 0 and U(max) = 100.\n",
    "\n",
    "Step Two:  Ask for ce_1 of lottery = `[min, .5, max, .5]` to find U(ce_1) (see how below)\n",
    "\n",
    "Step Three: Now ask for ce_2 of `[min, .5, ce_1, .5]` to find U(ce_2)\n",
    "\n",
    "Step Four:  Now ask for ce_3 of `[ce_1, .5, max, .5]` to find U(ce_3)\n",
    "\n",
    "Step n+1:  Take any two number x < y, where you know U(x) and U(y) from previous steps, and ask for ce_n of `[x, .5, y, .5]` to find U(ce_n).\n",
    "\n",
    "Last step:  Given that you now know `[U(min), U(x1), ..., U(xN), U(max)]`, build a piecewise linear function V through these points.\n",
    "\n",
    "#### How to compute U(ce_n)\n",
    "\n",
    "This assumes ce_n was requested from a lottery `[x, .5, y, .5]` where U(x) and U(y) are know.    \n",
    "\n",
    "Since `EU(lottery) = U(ce)`, we now know, `U(ce) = .5*U(x) + .5*U(y)`.\n",
    "\n",
    "For step two, `U(ce_1) = .5*U(min) + .5*U(max)` = `.5*0 + .5*100 ` = ` 50`.\n"
   ]
  },
  {
   "cell_type": "markdown",
   "metadata": {},
   "source": [
    "## Step Eight:  risk module\n",
    "\n",
    "In this last step you will place all of your functions in the code cell below and test them with the main program.  If they all work you can then uncomment the magic command and save them.  In the following code cells you will import the module and use the module name.   "
   ]
  }
 ],
 "metadata": {
  "kernelspec": {
   "display_name": "Python 3 (ipykernel)",
   "language": "python",
   "name": "python3"
  },
  "language_info": {
   "codemirror_mode": {
    "name": "ipython",
    "version": 3
   },
   "file_extension": ".py",
   "mimetype": "text/x-python",
   "name": "python",
   "nbconvert_exporter": "python",
   "pygments_lexer": "ipython3",
   "version": "3.9.15"
  },
  "toc": {
   "base_numbering": 1,
   "nav_menu": {},
   "number_sections": true,
   "sideBar": true,
   "skip_h1_title": false,
   "title_cell": "Table of Contents",
   "title_sidebar": "Contents",
   "toc_cell": false,
   "toc_position": {},
   "toc_section_display": true,
   "toc_window_display": false
  }
 },
 "nbformat": 4,
 "nbformat_minor": 4
}
